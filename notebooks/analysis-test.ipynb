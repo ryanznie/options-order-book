{
 "cells": [
  {
   "cell_type": "code",
   "execution_count": 2,
   "metadata": {},
   "outputs": [
    {
     "name": "stdout",
     "output_type": "stream",
     "text": [
      "Exchange status response: \n",
      "{'exchange_active': True, 'trading_active': True}\n",
      "\n",
      "Series: FED\n",
      "{'series': {'frequency': 'custom', 'ticker': 'FED', 'title': 'Fed funds rate'}}\n"
     ]
    }
   ],
   "source": [
    "import os\n",
    "import kalshi_python\n",
    "import uuid\n",
    "from pprint import pprint\n",
    "from dotenv import load_dotenv, find_dotenv\n",
    "from kalshi_python.models import *\n",
    "\n",
    "load_dotenv(find_dotenv())\n",
    "\n",
    "config = kalshi_python.Configuration()\n",
    "# Comment the line below to use production\n",
    "config.host = 'https://demo-api.kalshi.co/trade-api/v2'\n",
    "\n",
    "# Create an API configuration passing your credentials.\n",
    "# Use this if you want the kalshi_python sdk to manage the authentication for you.\n",
    "kalshi_api = kalshi_python.ApiInstance(\n",
    "    email=os.getenv('EMAIL'),\n",
    "    password=os.getenv('PASSWORD'),\n",
    "    configuration=config,\n",
    ")\n",
    "\n",
    "exchangeStatus = kalshi_api.get_exchange_status()\n",
    "print('Exchange status response: ')\n",
    "pprint(exchangeStatus)\n",
    "\n",
    "# Gets the data for a specific series.\n",
    "seriesTicker = 'FED'\n",
    "seriesResponse = kalshi_api.get_series(seriesTicker)\n",
    "print('\\nSeries: ' + seriesTicker)\n",
    "pprint(seriesResponse)"
   ]
  },
  {
   "cell_type": "code",
   "execution_count": 21,
   "metadata": {},
   "outputs": [
    {
     "name": "stdout",
     "output_type": "stream",
     "text": [
      "\n",
      "User balance: \n",
      "{'balance': 999711}\n"
     ]
    }
   ],
   "source": [
    "balanceResponse = kalshi_api.get_balance()\n",
    "print('\\nUser balance: ')\n",
    "pprint(balanceResponse)"
   ]
  },
  {
   "cell_type": "code",
   "execution_count": 24,
   "metadata": {},
   "outputs": [
    {
     "name": "stdout",
     "output_type": "stream",
     "text": [
      "\n",
      "Market: INXD-23OCT16-B4312\n",
      "{'market': {'can_close_early': True,\n",
      "            'cap_strike': 4324.99,\n",
      "            'category': 'Financials',\n",
      "            'close_time': '2023-10-16T20:00:00Z',\n",
      "            'custom_strike': None,\n",
      "            'event_ticker': 'INXD-23OCT16',\n",
      "            'expiration_time': '2023-10-23T23:00:00Z',\n",
      "            'expiration_value': '',\n",
      "            'floor_strike': 4300,\n",
      "            'last_price': 0,\n",
      "            'liquidity': 0,\n",
      "            'no_ask': 100,\n",
      "            'no_bid': 100,\n",
      "            'open_interest': 0,\n",
      "            'open_time': '2023-10-13T20:00:00Z',\n",
      "            'previous_price': 0,\n",
      "            'previous_yes_ask': 0,\n",
      "            'previous_yes_bid': 0,\n",
      "            'result': '',\n",
      "            'risk_limit_cents': 2500000,\n",
      "            'status': 'active',\n",
      "            'strike_type': 'between',\n",
      "            'subtitle': '4,300 to 4,324.99',\n",
      "            'ticker': 'INXD-23OCT16-B4312',\n",
      "            'title': 'Will the S&P 500 be between 4300 and 4324.99 at the end '\n",
      "                     'of Oct 16, 2023?',\n",
      "            'volume': 0,\n",
      "            'volume_24h': 0,\n",
      "            'yes_ask': 0,\n",
      "            'yes_bid': 0}}\n"
     ]
    }
   ],
   "source": [
    "# Gets the data for a specific market.\n",
    "marketTicker = 'INXD-23OCT16-B4312'\n",
    "marketResponse = kalshi_api.get_market(marketTicker)\n",
    "print('\\nMarket: ' + marketTicker)\n",
    "pprint(marketResponse)"
   ]
  },
  {
   "cell_type": "code",
   "execution_count": 25,
   "metadata": {},
   "outputs": [
    {
     "name": "stdout",
     "output_type": "stream",
     "text": [
      "\n",
      "Order submitted: \n",
      "{'order': {'action': 'buy',\n",
      "           'client_order_id': 'd0dcccf8-0480-4541-adaf-b6e2ded924a1',\n",
      "           'created_time': '2023-10-14T04:05:34.308607Z',\n",
      "           'expiration_time': None,\n",
      "           'no_price': 50,\n",
      "           'order_id': '695a41b2-2c8b-421d-a779-af97fc2f6f87',\n",
      "           'side': 'yes',\n",
      "           'status': 'resting',\n",
      "           'ticker': 'INXD-23OCT16-B4312',\n",
      "           'type': 'limit',\n",
      "           'user_id': '264a5568-c2bb-46b6-a172-0dc4fd414439',\n",
      "           'yes_price': 50}}\n"
     ]
    }
   ],
   "source": [
    "if exchangeStatus.trading_active:\n",
    "    # Submit an order for 10 yes contracts at 50cents on 'FED-23DEC-T3.00'.\n",
    "    orderUuid = str(uuid.uuid4())\n",
    "    orderResponse = kalshi_api.create_order(CreateOrderRequest(\n",
    "        ticker=marketTicker,\n",
    "        action='buy',\n",
    "        type='limit',\n",
    "        yes_price=50,\n",
    "        count=10,\n",
    "        client_order_id=orderUuid,\n",
    "        side='yes',\n",
    "    ))\n",
    "    print('\\nOrder submitted: ')\n",
    "    pprint(orderResponse)\n",
    "else:\n",
    "    print('\\nThe exchange is not trading active, no orders will be sent right now.')"
   ]
  },
  {
   "cell_type": "code",
   "execution_count": null,
   "metadata": {},
   "outputs": [],
   "source": []
  },
  {
   "cell_type": "markdown",
   "metadata": {},
   "source": [
    "# Testing Algo"
   ]
  },
  {
   "cell_type": "code",
   "execution_count": 3,
   "metadata": {},
   "outputs": [
    {
     "ename": "KeyError",
     "evalue": "'calls'",
     "output_type": "error",
     "traceback": [
      "\u001b[0;31m---------------------------------------------------------------------------\u001b[0m",
      "\u001b[0;31mKeyError\u001b[0m                                  Traceback (most recent call last)",
      "Cell \u001b[0;32mIn[3], line 5\u001b[0m\n\u001b[1;32m      2\u001b[0m spx \u001b[38;5;241m=\u001b[39m yf\u001b[38;5;241m.\u001b[39mTicker(\u001b[38;5;124m'\u001b[39m\u001b[38;5;124m^SPX\u001b[39m\u001b[38;5;124m'\u001b[39m)\n\u001b[1;32m      4\u001b[0m \u001b[38;5;66;03m# FETCH OPTIONS CHAIN DATA FOR THE COMPANY\u001b[39;00m\n\u001b[0;32m----> 5\u001b[0m spx_options \u001b[38;5;241m=\u001b[39m \u001b[43mspx\u001b[49m\u001b[38;5;241;43m.\u001b[39;49m\u001b[43moption_chain\u001b[49m\u001b[43m(\u001b[49m\u001b[43m)\u001b[49m\n",
      "File \u001b[0;32m/Library/Frameworks/Python.framework/Versions/3.11/lib/python3.11/site-packages/yfinance/ticker.py:97\u001b[0m, in \u001b[0;36mTicker.option_chain\u001b[0;34m(self, date, proxy, tz)\u001b[0m\n\u001b[1;32m     93\u001b[0m     date \u001b[38;5;241m=\u001b[39m \u001b[38;5;28mself\u001b[39m\u001b[38;5;241m.\u001b[39m_expirations[date]\n\u001b[1;32m     94\u001b[0m     options \u001b[38;5;241m=\u001b[39m \u001b[38;5;28mself\u001b[39m\u001b[38;5;241m.\u001b[39m_download_options(date, proxy\u001b[38;5;241m=\u001b[39mproxy)\n\u001b[1;32m     96\u001b[0m \u001b[38;5;28;01mreturn\u001b[39;00m _namedtuple(\u001b[38;5;124m'\u001b[39m\u001b[38;5;124mOptions\u001b[39m\u001b[38;5;124m'\u001b[39m, [\u001b[38;5;124m'\u001b[39m\u001b[38;5;124mcalls\u001b[39m\u001b[38;5;124m'\u001b[39m, \u001b[38;5;124m'\u001b[39m\u001b[38;5;124mputs\u001b[39m\u001b[38;5;124m'\u001b[39m, \u001b[38;5;124m'\u001b[39m\u001b[38;5;124munderlying\u001b[39m\u001b[38;5;124m'\u001b[39m])(\u001b[38;5;241m*\u001b[39m\u001b[38;5;241m*\u001b[39m{\n\u001b[0;32m---> 97\u001b[0m     \u001b[38;5;124m\"\u001b[39m\u001b[38;5;124mcalls\u001b[39m\u001b[38;5;124m\"\u001b[39m: \u001b[38;5;28mself\u001b[39m\u001b[38;5;241m.\u001b[39m_options2df(\u001b[43moptions\u001b[49m\u001b[43m[\u001b[49m\u001b[38;5;124;43m'\u001b[39;49m\u001b[38;5;124;43mcalls\u001b[39;49m\u001b[38;5;124;43m'\u001b[39;49m\u001b[43m]\u001b[49m, tz\u001b[38;5;241m=\u001b[39mtz),\n\u001b[1;32m     98\u001b[0m     \u001b[38;5;124m\"\u001b[39m\u001b[38;5;124mputs\u001b[39m\u001b[38;5;124m\"\u001b[39m: \u001b[38;5;28mself\u001b[39m\u001b[38;5;241m.\u001b[39m_options2df(options[\u001b[38;5;124m'\u001b[39m\u001b[38;5;124mputs\u001b[39m\u001b[38;5;124m'\u001b[39m], tz\u001b[38;5;241m=\u001b[39mtz),\n\u001b[1;32m     99\u001b[0m     \u001b[38;5;124m\"\u001b[39m\u001b[38;5;124munderlying\u001b[39m\u001b[38;5;124m\"\u001b[39m: options[\u001b[38;5;124m'\u001b[39m\u001b[38;5;124munderlying\u001b[39m\u001b[38;5;124m'\u001b[39m]\n\u001b[1;32m    100\u001b[0m })\n",
      "\u001b[0;31mKeyError\u001b[0m: 'calls'"
     ]
    }
   ],
   "source": [
    "import yfinance as yf\n",
    "spx = yf.Ticker('^SPX')\n",
    "\n",
    "# FETCH OPTIONS CHAIN DATA FOR THE COMPANY\n",
    "spx_options = spx.option_chain()"
   ]
  },
  {
   "cell_type": "code",
   "execution_count": 8,
   "metadata": {},
   "outputs": [
    {
     "name": "stdout",
     "output_type": "stream",
     "text": [
      "[*********************100%%**********************]  1 of 1 completed\n"
     ]
    },
    {
     "data": {
      "text/plain": [
       "<Axes: xlabel='Datetime'>"
      ]
     },
     "execution_count": 8,
     "metadata": {},
     "output_type": "execute_result"
    },
    {
     "data": {
      "image/png": "[encoded data removed]",
      "text/plain": [
       "<Figure size 640x480 with 1 Axes>"
      ]
     },
     "metadata": {},
     "output_type": "display_data"
    }
   ],
   "source": [
    "import datetime\n",
    "data = yf.download('^SPX', \n",
    "                       start=datetime.date.today().strftime(\"%Y-%m-%d\"),  \n",
    "                       interval = \"1m\")\n",
    "data['Close'].plot()"
   ]
  },
  {
   "cell_type": "code",
   "execution_count": 153,
   "metadata": {},
   "outputs": [],
   "source": [
    "spx_options.puts['r_strike'] = spx_options.puts['strike'].apply(lambda x: round(x/30)*30)\n",
    "spx_options.calls['r_strike'] = spx_options.calls['strike'].apply(lambda x: round(x/30)*30)\n",
    "# spx_options.puts.groupby('r_strike').sum('openInterest').reset_index() #.hist(weights='openInterest', bins=80)\n",
    "# spx_options.calls.groupby('r_strike').sum('openInterest').reset_index() #.hist(weights='openInterest', bins=80)"
   ]
  },
  {
   "cell_type": "code",
   "execution_count": 154,
   "metadata": {},
   "outputs": [
    {
     "data": {
      "text/html": [
       "<div>\n",
       "<style scoped>\n",
       "    .dataframe tbody tr th:only-of-type {\n",
       "        vertical-align: middle;\n",
       "    }\n",
       "\n",
       "    .dataframe tbody tr th {\n",
       "        vertical-align: top;\n",
       "    }\n",
       "\n",
       "    .dataframe thead th {\n",
       "        text-align: right;\n",
       "    }\n",
       "</style>\n",
       "<table border=\"1\" class=\"dataframe\">\n",
       "  <thead>\n",
       "    <tr style=\"text-align: right;\">\n",
       "      <th></th>\n",
       "      <th>contractSymbol</th>\n",
       "      <th>lastTradeDate</th>\n",
       "      <th>strike</th>\n",
       "      <th>lastPrice</th>\n",
       "      <th>bid</th>\n",
       "      <th>ask</th>\n",
       "      <th>change</th>\n",
       "      <th>percentChange</th>\n",
       "      <th>volume</th>\n",
       "      <th>openInterest</th>\n",
       "      <th>impliedVolatility</th>\n",
       "      <th>inTheMoney</th>\n",
       "      <th>contractSize</th>\n",
       "      <th>currency</th>\n",
       "      <th>r_strike</th>\n",
       "    </tr>\n",
       "  </thead>\n",
       "  <tbody>\n",
       "    <tr>\n",
       "      <th>0</th>\n",
       "      <td>SPX231020P00200000</td>\n",
       "      <td>2023-10-02 14:56:23+00:00</td>\n",
       "      <td>200.0</td>\n",
       "      <td>0.05</td>\n",
       "      <td>0.0</td>\n",
       "      <td>0.0</td>\n",
       "      <td>0.0</td>\n",
       "      <td>0.0</td>\n",
       "      <td>10.0</td>\n",
       "      <td>131.0</td>\n",
       "      <td>0.500005</td>\n",
       "      <td>False</td>\n",
       "      <td>REGULAR</td>\n",
       "      <td>USD</td>\n",
       "      <td>210</td>\n",
       "    </tr>\n",
       "    <tr>\n",
       "      <th>1</th>\n",
       "      <td>SPX231020P00400000</td>\n",
       "      <td>2023-06-13 14:57:56+00:00</td>\n",
       "      <td>400.0</td>\n",
       "      <td>0.05</td>\n",
       "      <td>0.0</td>\n",
       "      <td>0.0</td>\n",
       "      <td>0.0</td>\n",
       "      <td>0.0</td>\n",
       "      <td>2.0</td>\n",
       "      <td>0.0</td>\n",
       "      <td>0.500005</td>\n",
       "      <td>False</td>\n",
       "      <td>REGULAR</td>\n",
       "      <td>USD</td>\n",
       "      <td>390</td>\n",
       "    </tr>\n",
       "    <tr>\n",
       "      <th>2</th>\n",
       "      <td>SPXW231020P00600000</td>\n",
       "      <td>2023-06-30 15:11:58+00:00</td>\n",
       "      <td>600.0</td>\n",
       "      <td>0.05</td>\n",
       "      <td>0.0</td>\n",
       "      <td>0.0</td>\n",
       "      <td>0.0</td>\n",
       "      <td>0.0</td>\n",
       "      <td>4.0</td>\n",
       "      <td>0.0</td>\n",
       "      <td>0.500005</td>\n",
       "      <td>False</td>\n",
       "      <td>REGULAR</td>\n",
       "      <td>USD</td>\n",
       "      <td>600</td>\n",
       "    </tr>\n",
       "    <tr>\n",
       "      <th>3</th>\n",
       "      <td>SPX231020P00800000</td>\n",
       "      <td>2023-09-20 17:41:50+00:00</td>\n",
       "      <td>800.0</td>\n",
       "      <td>0.05</td>\n",
       "      <td>0.0</td>\n",
       "      <td>0.2</td>\n",
       "      <td>0.0</td>\n",
       "      <td>0.0</td>\n",
       "      <td>1.0</td>\n",
       "      <td>2928.0</td>\n",
       "      <td>9.546879</td>\n",
       "      <td>False</td>\n",
       "      <td>REGULAR</td>\n",
       "      <td>USD</td>\n",
       "      <td>810</td>\n",
       "    </tr>\n",
       "    <tr>\n",
       "      <th>4</th>\n",
       "      <td>SPX231020P01000000</td>\n",
       "      <td>2023-09-18 11:57:11+00:00</td>\n",
       "      <td>1000.0</td>\n",
       "      <td>0.03</td>\n",
       "      <td>0.0</td>\n",
       "      <td>0.1</td>\n",
       "      <td>0.0</td>\n",
       "      <td>0.0</td>\n",
       "      <td>1.0</td>\n",
       "      <td>5287.0</td>\n",
       "      <td>7.890625</td>\n",
       "      <td>False</td>\n",
       "      <td>REGULAR</td>\n",
       "      <td>USD</td>\n",
       "      <td>990</td>\n",
       "    </tr>\n",
       "    <tr>\n",
       "      <th>...</th>\n",
       "      <td>...</td>\n",
       "      <td>...</td>\n",
       "      <td>...</td>\n",
       "      <td>...</td>\n",
       "      <td>...</td>\n",
       "      <td>...</td>\n",
       "      <td>...</td>\n",
       "      <td>...</td>\n",
       "      <td>...</td>\n",
       "      <td>...</td>\n",
       "      <td>...</td>\n",
       "      <td>...</td>\n",
       "      <td>...</td>\n",
       "      <td>...</td>\n",
       "      <td>...</td>\n",
       "    </tr>\n",
       "    <tr>\n",
       "      <th>334</th>\n",
       "      <td>SPX231020P06000000</td>\n",
       "      <td>2023-10-11 13:35:35+00:00</td>\n",
       "      <td>6000.0</td>\n",
       "      <td>1616.25</td>\n",
       "      <td>1698.5</td>\n",
       "      <td>1750.5</td>\n",
       "      <td>0.0</td>\n",
       "      <td>0.0</td>\n",
       "      <td>1.0</td>\n",
       "      <td>220.0</td>\n",
       "      <td>0.000010</td>\n",
       "      <td>True</td>\n",
       "      <td>REGULAR</td>\n",
       "      <td>USD</td>\n",
       "      <td>6000</td>\n",
       "    </tr>\n",
       "    <tr>\n",
       "      <th>335</th>\n",
       "      <td>SPXW231020P06200000</td>\n",
       "      <td>2023-10-10 14:30:39+00:00</td>\n",
       "      <td>6200.0</td>\n",
       "      <td>1825.58</td>\n",
       "      <td>1967.5</td>\n",
       "      <td>1968.6</td>\n",
       "      <td>0.0</td>\n",
       "      <td>0.0</td>\n",
       "      <td>2.0</td>\n",
       "      <td>92.0</td>\n",
       "      <td>2.641117</td>\n",
       "      <td>True</td>\n",
       "      <td>REGULAR</td>\n",
       "      <td>USD</td>\n",
       "      <td>6210</td>\n",
       "    </tr>\n",
       "    <tr>\n",
       "      <th>336</th>\n",
       "      <td>SPXW231020P06400000</td>\n",
       "      <td>2023-10-18 15:37:11+00:00</td>\n",
       "      <td>6400.0</td>\n",
       "      <td>2054.40</td>\n",
       "      <td>2166.7</td>\n",
       "      <td>2167.8</td>\n",
       "      <td>0.0</td>\n",
       "      <td>0.0</td>\n",
       "      <td>8.0</td>\n",
       "      <td>14.0</td>\n",
       "      <td>2.699222</td>\n",
       "      <td>True</td>\n",
       "      <td>REGULAR</td>\n",
       "      <td>USD</td>\n",
       "      <td>6390</td>\n",
       "    </tr>\n",
       "    <tr>\n",
       "      <th>337</th>\n",
       "      <td>SPX231020P06600000</td>\n",
       "      <td>2023-08-23 16:30:47+00:00</td>\n",
       "      <td>6600.0</td>\n",
       "      <td>2121.25</td>\n",
       "      <td>2252.6</td>\n",
       "      <td>2256.9</td>\n",
       "      <td>0.0</td>\n",
       "      <td>0.0</td>\n",
       "      <td>1.0</td>\n",
       "      <td>34.0</td>\n",
       "      <td>0.000010</td>\n",
       "      <td>True</td>\n",
       "      <td>REGULAR</td>\n",
       "      <td>USD</td>\n",
       "      <td>6600</td>\n",
       "    </tr>\n",
       "    <tr>\n",
       "      <th>338</th>\n",
       "      <td>SPX231020P06800000</td>\n",
       "      <td>2023-10-11 13:35:46+00:00</td>\n",
       "      <td>6800.0</td>\n",
       "      <td>2414.94</td>\n",
       "      <td>2504.7</td>\n",
       "      <td>2556.6</td>\n",
       "      <td>0.0</td>\n",
       "      <td>0.0</td>\n",
       "      <td>5.0</td>\n",
       "      <td>48.0</td>\n",
       "      <td>0.000010</td>\n",
       "      <td>True</td>\n",
       "      <td>REGULAR</td>\n",
       "      <td>USD</td>\n",
       "      <td>6810</td>\n",
       "    </tr>\n",
       "  </tbody>\n",
       "</table>\n",
       "<p>339 rows × 15 columns</p>\n",
       "</div>"
      ],
      "text/plain": [
       "          contractSymbol             lastTradeDate  strike  lastPrice     bid  \\\n",
       "0     SPX231020P00200000 2023-10-02 14:56:23+00:00   200.0       0.05     0.0   \n",
       "1     SPX231020P00400000 2023-06-13 14:57:56+00:00   400.0       0.05     0.0   \n",
       "2    SPXW231020P00600000 2023-06-30 15:11:58+00:00   600.0       0.05     0.0   \n",
       "3     SPX231020P00800000 2023-09-20 17:41:50+00:00   800.0       0.05     0.0   \n",
       "4     SPX231020P01000000 2023-09-18 11:57:11+00:00  1000.0       0.03     0.0   \n",
       "..                   ...                       ...     ...        ...     ...   \n",
       "334   SPX231020P06000000 2023-10-11 13:35:35+00:00  6000.0    1616.25  1698.5   \n",
       "335  SPXW231020P06200000 2023-10-10 14:30:39+00:00  6200.0    1825.58  1967.5   \n",
       "336  SPXW231020P06400000 2023-10-18 15:37:11+00:00  6400.0    2054.40  2166.7   \n",
       "337   SPX231020P06600000 2023-08-23 16:30:47+00:00  6600.0    2121.25  2252.6   \n",
       "338   SPX231020P06800000 2023-10-11 13:35:46+00:00  6800.0    2414.94  2504.7   \n",
       "\n",
       "        ask  change  percentChange  volume  openInterest  impliedVolatility  \\\n",
       "0       0.0     0.0            0.0    10.0         131.0           0.500005   \n",
       "1       0.0     0.0            0.0     2.0           0.0           0.500005   \n",
       "2       0.0     0.0            0.0     4.0           0.0           0.500005   \n",
       "3       0.2     0.0            0.0     1.0        2928.0           9.546879   \n",
       "4       0.1     0.0            0.0     1.0        5287.0           7.890625   \n",
       "..      ...     ...            ...     ...           ...                ...   \n",
       "334  1750.5     0.0            0.0     1.0         220.0           0.000010   \n",
       "335  1968.6     0.0            0.0     2.0          92.0           2.641117   \n",
       "336  2167.8     0.0            0.0     8.0          14.0           2.699222   \n",
       "337  2256.9     0.0            0.0     1.0          34.0           0.000010   \n",
       "338  2556.6     0.0            0.0     5.0          48.0           0.000010   \n",
       "\n",
       "     inTheMoney contractSize currency  r_strike  \n",
       "0         False      REGULAR      USD       210  \n",
       "1         False      REGULAR      USD       390  \n",
       "2         False      REGULAR      USD       600  \n",
       "3         False      REGULAR      USD       810  \n",
       "4         False      REGULAR      USD       990  \n",
       "..          ...          ...      ...       ...  \n",
       "334        True      REGULAR      USD      6000  \n",
       "335        True      REGULAR      USD      6210  \n",
       "336        True      REGULAR      USD      6390  \n",
       "337        True      REGULAR      USD      6600  \n",
       "338        True      REGULAR      USD      6810  \n",
       "\n",
       "[339 rows x 15 columns]"
      ]
     },
     "execution_count": 154,
     "metadata": {},
     "output_type": "execute_result"
    }
   ],
   "source": [
    "spx_options.puts"
   ]
  },
  {
   "cell_type": "code",
   "execution_count": 1,
   "metadata": {},
   "outputs": [
    {
     "ename": "NameError",
     "evalue": "name 'spx_options' is not defined",
     "output_type": "error",
     "traceback": [
      "\u001b[0;31m---------------------------------------------------------------------------\u001b[0m",
      "\u001b[0;31mNameError\u001b[0m                                 Traceback (most recent call last)",
      "Cell \u001b[0;32mIn[1], line 1\u001b[0m\n\u001b[0;32m----> 1\u001b[0m \u001b[43mspx_options\u001b[49m\u001b[38;5;241m.\u001b[39mputs\u001b[38;5;241m.\u001b[39mgroupby(\u001b[38;5;124m'\u001b[39m\u001b[38;5;124mr_strike\u001b[39m\u001b[38;5;124m'\u001b[39m)\u001b[38;5;241m.\u001b[39msum(\u001b[38;5;124m'\u001b[39m\u001b[38;5;124mopenInterest\u001b[39m\u001b[38;5;124m'\u001b[39m)\n",
      "\u001b[0;31mNameError\u001b[0m: name 'spx_options' is not defined"
     ]
    }
   ],
   "source": [
    "spx_options.puts.groupby('r_strike').sum('openInterest')"
   ]
  },
  {
   "cell_type": "code",
   "execution_count": 156,
   "metadata": {},
   "outputs": [
    {
     "data": {
      "text/plain": [
       "<matplotlib.legend.Legend at 0x13f9641d0>"
      ]
     },
     "execution_count": 156,
     "metadata": {},
     "output_type": "execute_result"
    },
    {
     "data": {
      "image/png": "[encoded data removed]",
      "text/plain": [
       "<Figure size 640x480 with 1 Axes>"
      ]
     },
     "metadata": {},
     "output_type": "display_data"
    }
   ],
   "source": [
    "# plot histogram of strike with openInterest as count\n",
    "import matplotlib.pyplot as plt\n",
    "plt.hist(spx_options.calls['strike'], weights=spx_options.calls['openInterest'], bins=80)\n",
    "plt.hist(spx_options.puts['strike'], weights=spx_options.puts['openInterest'], bins=80, alpha=0.3)\n",
    "plt.axvline(data.Close.iloc[-1], color='k', linestyle='dashed', linewidth=1, label = data.Close.iloc[-1])\n",
    "plt.xlim(4000, 4700)\n",
    "plt.legend()"
   ]
  },
  {
   "cell_type": "code",
   "execution_count": 141,
   "metadata": {},
   "outputs": [
    {
     "data": {
      "text/plain": [
       "(array([2.0000e+00, 0.0000e+00, 0.0000e+00, 0.0000e+00, 0.0000e+00,\n",
       "        1.0000e+00, 0.0000e+00, 0.0000e+00, 0.0000e+00, 0.0000e+00,\n",
       "        0.0000e+00, 6.0000e+00, 0.0000e+00, 0.0000e+00, 0.0000e+00,\n",
       "        0.0000e+00, 4.5000e+01, 0.0000e+00, 0.0000e+00, 0.0000e+00,\n",
       "        0.0000e+00, 0.0000e+00, 7.6300e+02, 0.0000e+00, 0.0000e+00,\n",
       "        0.0000e+00, 0.0000e+00, 1.1730e+03, 0.0000e+00, 0.0000e+00,\n",
       "        0.0000e+00, 0.0000e+00, 0.0000e+00, 3.7200e+02, 0.0000e+00,\n",
       "        1.2550e+03, 0.0000e+00, 0.0000e+00, 3.1180e+03, 0.0000e+00,\n",
       "        2.7060e+03, 1.5447e+04, 3.3145e+04, 0.0000e+00, 1.9009e+04,\n",
       "        4.6080e+03, 1.5730e+03, 6.0100e+02, 4.0680e+03, 3.0280e+03,\n",
       "        5.1300e+02, 1.3310e+03, 2.9290e+03, 5.7980e+03, 1.9610e+03,\n",
       "        3.1700e+03, 6.2850e+03, 9.8080e+03, 1.4368e+04, 8.5060e+03,\n",
       "        1.5297e+04, 1.8044e+04, 2.2114e+04, 1.2965e+04, 1.0922e+04,\n",
       "        3.1380e+03, 1.6300e+03, 5.7400e+02, 2.6000e+02, 1.1400e+02,\n",
       "        8.2300e+02, 8.2000e+01, 0.0000e+00, 0.0000e+00, 0.0000e+00,\n",
       "        0.0000e+00, 0.0000e+00, 0.0000e+00, 0.0000e+00, 8.0000e+00]),\n",
       " array([2000.  , 2036.25, 2072.5 , 2108.75, 2145.  , 2181.25, 2217.5 ,\n",
       "        2253.75, 2290.  , 2326.25, 2362.5 , 2398.75, 2435.  , 2471.25,\n",
       "        2507.5 , 2543.75, 2580.  , 2616.25, 2652.5 , 2688.75, 2725.  ,\n",
       "        2761.25, 2797.5 , 2833.75, 2870.  , 2906.25, 2942.5 , 2978.75,\n",
       "        3015.  , 3051.25, 3087.5 , 3123.75, 3160.  , 3196.25, 3232.5 ,\n",
       "        3268.75, 3305.  , 3341.25, 3377.5 , 3413.75, 3450.  , 3486.25,\n",
       "        3522.5 , 3558.75, 3595.  , 3631.25, 3667.5 , 3703.75, 3740.  ,\n",
       "        3776.25, 3812.5 , 3848.75, 3885.  , 3921.25, 3957.5 , 3993.75,\n",
       "        4030.  , 4066.25, 4102.5 , 4138.75, 4175.  , 4211.25, 4247.5 ,\n",
       "        4283.75, 4320.  , 4356.25, 4392.5 , 4428.75, 4465.  , 4501.25,\n",
       "        4537.5 , 4573.75, 4610.  , 4646.25, 4682.5 , 4718.75, 4755.  ,\n",
       "        4791.25, 4827.5 , 4863.75, 4900.  ]),\n",
       " <BarContainer object of 80 artists>)"
      ]
     },
     "execution_count": 141,
     "metadata": {},
     "output_type": "execute_result"
    },
    {
     "data": {
      "image/png": "[encoded data removed]",
      "text/plain": [
       "<Figure size 640x480 with 1 Axes>"
      ]
     },
     "metadata": {},
     "output_type": "display_data"
    }
   ],
   "source": [
    "plt.hist(spx_options.puts['strike'], weights=spx_options.puts['openInterest'], bins=80, alpha=0.3)"
   ]
  },
  {
   "cell_type": "code",
   "execution_count": 142,
   "metadata": {},
   "outputs": [
    {
     "data": {
      "text/html": [
       "<div>\n",
       "<style scoped>\n",
       "    .dataframe tbody tr th:only-of-type {\n",
       "        vertical-align: middle;\n",
       "    }\n",
       "\n",
       "    .dataframe tbody tr th {\n",
       "        vertical-align: top;\n",
       "    }\n",
       "\n",
       "    .dataframe thead th {\n",
       "        text-align: right;\n",
       "    }\n",
       "</style>\n",
       "<table border=\"1\" class=\"dataframe\">\n",
       "  <thead>\n",
       "    <tr style=\"text-align: right;\">\n",
       "      <th></th>\n",
       "      <th>contractSymbol</th>\n",
       "      <th>lastTradeDate</th>\n",
       "      <th>strike</th>\n",
       "      <th>lastPrice</th>\n",
       "      <th>bid</th>\n",
       "      <th>ask</th>\n",
       "      <th>change</th>\n",
       "      <th>percentChange</th>\n",
       "      <th>volume</th>\n",
       "      <th>openInterest</th>\n",
       "      <th>impliedVolatility</th>\n",
       "      <th>inTheMoney</th>\n",
       "      <th>contractSize</th>\n",
       "      <th>currency</th>\n",
       "      <th>r_strike</th>\n",
       "    </tr>\n",
       "  </thead>\n",
       "  <tbody>\n",
       "    <tr>\n",
       "      <th>11</th>\n",
       "      <td>SPXW231019P03550000</td>\n",
       "      <td>2023-10-18 20:14:44+00:00</td>\n",
       "      <td>3550.0</td>\n",
       "      <td>0.05</td>\n",
       "      <td>0.0</td>\n",
       "      <td>0.05</td>\n",
       "      <td>0.0</td>\n",
       "      <td>0.0</td>\n",
       "      <td>24393.0</td>\n",
       "      <td>33145</td>\n",
       "      <td>1.070317</td>\n",
       "      <td>False</td>\n",
       "      <td>REGULAR</td>\n",
       "      <td>USD</td>\n",
       "      <td>3540</td>\n",
       "    </tr>\n",
       "  </tbody>\n",
       "</table>\n",
       "</div>"
      ],
      "text/plain": [
       "         contractSymbol             lastTradeDate  strike  lastPrice  bid  \\\n",
       "11  SPXW231019P03550000 2023-10-18 20:14:44+00:00  3550.0       0.05  0.0   \n",
       "\n",
       "     ask  change  percentChange   volume  openInterest  impliedVolatility  \\\n",
       "11  0.05     0.0            0.0  24393.0         33145           1.070317   \n",
       "\n",
       "    inTheMoney contractSize currency  r_strike  \n",
       "11       False      REGULAR      USD      3540  "
      ]
     },
     "execution_count": 142,
     "metadata": {},
     "output_type": "execute_result"
    }
   ],
   "source": [
    "spx_options.puts[spx_options.puts['openInterest'] == max(spx_options.puts['openInterest'])]"
   ]
  },
  {
   "cell_type": "code",
   "execution_count": null,
   "metadata": {},
   "outputs": [],
   "source": [
    "# algo\n",
    "# Calculate open interest puts and calls around current price at 11AM (after morning action)\n",
    "# if more puts,\n",
    "# Vote no for 1 bracket above current price\n",
    "# \n",
    "\n",
    "# Alternatively, for more risk higher return, yes for most open interest\n",
    "\n",
    "# kinda like an (options) order book for SPX\n",
    "\n",
    "# need to be in the middle of bracket, if not then no vote\n",
    "# if VIX > x then no vote"
   ]
  },
  {
   "cell_type": "code",
   "execution_count": null,
   "metadata": {},
   "outputs": [],
   "source": []
  },
  {
   "cell_type": "code",
   "execution_count": 15,
   "metadata": {},
   "outputs": [
    {
     "name": "stdout",
     "output_type": "stream",
     "text": [
      "[*********************100%%**********************]  1 of 1 completed\n",
      "[*********************100%%**********************]  1 of 1 completed\n"
     ]
    },
    {
     "data": {
      "text/html": [
       "<div>\n",
       "<style scoped>\n",
       "    .dataframe tbody tr th:only-of-type {\n",
       "        vertical-align: middle;\n",
       "    }\n",
       "\n",
       "    .dataframe tbody tr th {\n",
       "        vertical-align: top;\n",
       "    }\n",
       "\n",
       "    .dataframe thead th {\n",
       "        text-align: right;\n",
       "    }\n",
       "</style>\n",
       "<table border=\"1\" class=\"dataframe\">\n",
       "  <thead>\n",
       "    <tr style=\"text-align: right;\">\n",
       "      <th></th>\n",
       "      <th>Open</th>\n",
       "      <th>High</th>\n",
       "      <th>Low</th>\n",
       "      <th>Close</th>\n",
       "      <th>Adj Close</th>\n",
       "      <th>Volume</th>\n",
       "    </tr>\n",
       "    <tr>\n",
       "      <th>Date</th>\n",
       "      <th></th>\n",
       "      <th></th>\n",
       "      <th></th>\n",
       "      <th></th>\n",
       "      <th></th>\n",
       "      <th></th>\n",
       "    </tr>\n",
       "  </thead>\n",
       "  <tbody>\n",
       "    <tr>\n",
       "      <th>2023-08-18</th>\n",
       "      <td>4344.879883</td>\n",
       "      <td>4381.819824</td>\n",
       "      <td>4335.310059</td>\n",
       "      <td>4369.709961</td>\n",
       "      <td>4369.709961</td>\n",
       "      <td>3940400000</td>\n",
       "    </tr>\n",
       "    <tr>\n",
       "      <th>2023-08-21</th>\n",
       "      <td>4380.279785</td>\n",
       "      <td>4407.549805</td>\n",
       "      <td>4360.299805</td>\n",
       "      <td>4399.770020</td>\n",
       "      <td>4399.770020</td>\n",
       "      <td>3726850000</td>\n",
       "    </tr>\n",
       "    <tr>\n",
       "      <th>2023-08-22</th>\n",
       "      <td>4415.330078</td>\n",
       "      <td>4418.589844</td>\n",
       "      <td>4382.770020</td>\n",
       "      <td>4387.549805</td>\n",
       "      <td>4387.549805</td>\n",
       "      <td>3522760000</td>\n",
       "    </tr>\n",
       "    <tr>\n",
       "      <th>2023-08-23</th>\n",
       "      <td>4396.439941</td>\n",
       "      <td>4443.180176</td>\n",
       "      <td>4396.439941</td>\n",
       "      <td>4436.009766</td>\n",
       "      <td>4436.009766</td>\n",
       "      <td>3837270000</td>\n",
       "    </tr>\n",
       "    <tr>\n",
       "      <th>2023-08-24</th>\n",
       "      <td>4455.160156</td>\n",
       "      <td>4458.299805</td>\n",
       "      <td>4375.549805</td>\n",
       "      <td>4376.310059</td>\n",
       "      <td>4376.310059</td>\n",
       "      <td>3723470000</td>\n",
       "    </tr>\n",
       "  </tbody>\n",
       "</table>\n",
       "</div>"
      ],
      "text/plain": [
       "                   Open         High          Low        Close    Adj Close  \\\n",
       "Date                                                                          \n",
       "2023-08-18  4344.879883  4381.819824  4335.310059  4369.709961  4369.709961   \n",
       "2023-08-21  4380.279785  4407.549805  4360.299805  4399.770020  4399.770020   \n",
       "2023-08-22  4415.330078  4418.589844  4382.770020  4387.549805  4387.549805   \n",
       "2023-08-23  4396.439941  4443.180176  4396.439941  4436.009766  4436.009766   \n",
       "2023-08-24  4455.160156  4458.299805  4375.549805  4376.310059  4376.310059   \n",
       "\n",
       "                Volume  \n",
       "Date                    \n",
       "2023-08-18  3940400000  \n",
       "2023-08-21  3726850000  \n",
       "2023-08-22  3522760000  \n",
       "2023-08-23  3837270000  \n",
       "2023-08-24  3723470000  "
      ]
     },
     "execution_count": 15,
     "metadata": {},
     "output_type": "execute_result"
    }
   ],
   "source": [
    "hour = yf.download('^SPX', \n",
    "                       start='2023-8-18',  \n",
    "                       end=datetime.date.today().strftime(\"%Y-%m-%d\"),\n",
    "                       interval = \"1h\")\n",
    "\n",
    "daily = yf.download('^SPX', \n",
    "                       start='2023-8-18',  \n",
    "                       end=datetime.date.today().strftime(\"%Y-%m-%d\"),\n",
    "                       interval = \"1d\")\n",
    "\n",
    "\n",
    "daily.head()"
   ]
  },
  {
   "cell_type": "code",
   "execution_count": 10,
   "metadata": {},
   "outputs": [],
   "source": [
    "hour = hour.between_time('11:30', '11:30')\n",
    "daily['Day'] = daily.index.date\n",
    "hour['Day'] = hour.index.date\n",
    "\n"
   ]
  },
  {
   "cell_type": "code",
   "execution_count": 11,
   "metadata": {},
   "outputs": [
    {
     "data": {
      "text/html": [
       "<div>\n",
       "<style scoped>\n",
       "    .dataframe tbody tr th:only-of-type {\n",
       "        vertical-align: middle;\n",
       "    }\n",
       "\n",
       "    .dataframe tbody tr th {\n",
       "        vertical-align: top;\n",
       "    }\n",
       "\n",
       "    .dataframe thead th {\n",
       "        text-align: right;\n",
       "    }\n",
       "</style>\n",
       "<table border=\"1\" class=\"dataframe\">\n",
       "  <thead>\n",
       "    <tr style=\"text-align: right;\">\n",
       "      <th></th>\n",
       "      <th>Day</th>\n",
       "      <th>Close_hour</th>\n",
       "      <th>Close_daily</th>\n",
       "    </tr>\n",
       "  </thead>\n",
       "  <tbody>\n",
       "    <tr>\n",
       "      <th>0</th>\n",
       "      <td>2023-08-18</td>\n",
       "      <td>4364.209961</td>\n",
       "      <td>4369.709961</td>\n",
       "    </tr>\n",
       "    <tr>\n",
       "      <th>1</th>\n",
       "      <td>2023-08-21</td>\n",
       "      <td>4375.950195</td>\n",
       "      <td>4399.770020</td>\n",
       "    </tr>\n",
       "    <tr>\n",
       "      <th>2</th>\n",
       "      <td>2023-08-22</td>\n",
       "      <td>4392.029785</td>\n",
       "      <td>4387.549805</td>\n",
       "    </tr>\n",
       "    <tr>\n",
       "      <th>3</th>\n",
       "      <td>2023-08-23</td>\n",
       "      <td>4427.620117</td>\n",
       "      <td>4436.009766</td>\n",
       "    </tr>\n",
       "    <tr>\n",
       "      <th>4</th>\n",
       "      <td>2023-08-24</td>\n",
       "      <td>4406.740234</td>\n",
       "      <td>4376.310059</td>\n",
       "    </tr>\n",
       "  </tbody>\n",
       "</table>\n",
       "</div>"
      ],
      "text/plain": [
       "          Day   Close_hour  Close_daily\n",
       "0  2023-08-18  4364.209961  4369.709961\n",
       "1  2023-08-21  4375.950195  4399.770020\n",
       "2  2023-08-22  4392.029785  4387.549805\n",
       "3  2023-08-23  4427.620117  4436.009766\n",
       "4  2023-08-24  4406.740234  4376.310059"
      ]
     },
     "execution_count": 11,
     "metadata": {},
     "output_type": "execute_result"
    }
   ],
   "source": [
    "# join hour and daily based on day\n",
    "df2 = hour.merge(daily, on='Day', how='left', suffixes=('_hour', '_daily'))\n",
    "df = df2[['Day', 'Close_hour', 'Close_daily']]\n",
    "df.head()"
   ]
  },
  {
   "cell_type": "code",
   "execution_count": 14,
   "metadata": {},
   "outputs": [
    {
     "name": "stderr",
     "output_type": "stream",
     "text": [
      "/var/folders/sb/j3m42l4j36x49gq6998z6jp00000gn/T/ipykernel_50057/4006564575.py:1: SettingWithCopyWarning: \n",
      "A value is trying to be set on a copy of a slice from a DataFrame.\n",
      "Try using .loc[row_indexer,col_indexer] = value instead\n",
      "\n",
      "See the caveats in the documentation: https://pandas.pydata.org/pandas-docs/stable/user_guide/indexing.html#returning-a-view-versus-a-copy\n",
      "  df['diff'] = df['Close_daily'] - df['Close_hour']\n"
     ]
    },
    {
     "data": {
      "text/plain": [
       "<Axes: >"
      ]
     },
     "execution_count": 14,
     "metadata": {},
     "output_type": "execute_result"
    },
    {
     "data": {
      "image/png": "[encoded data removed]",
      "text/plain": [
       "<Figure size 640x480 with 1 Axes>"
      ]
     },
     "metadata": {},
     "output_type": "display_data"
    }
   ],
   "source": [
    "df['diff'] = df['Close_daily'] - df['Close_hour']\n",
    "df['diff'].plot() # max move is about +20, -30"
   ]
  },
  {
   "cell_type": "code",
   "execution_count": 13,
   "metadata": {},
   "outputs": [
    {
     "ename": "NameError",
     "evalue": "name 'df3' is not defined",
     "output_type": "error",
     "traceback": [
      "\u001b[0;31m---------------------------------------------------------------------------\u001b[0m",
      "\u001b[0;31mNameError\u001b[0m                                 Traceback (most recent call last)",
      "Cell \u001b[0;32mIn[13], line 2\u001b[0m\n\u001b[1;32m      1\u001b[0m \u001b[38;5;66;03m# get the diff that is less than 0\u001b[39;00m\n\u001b[0;32m----> 2\u001b[0m \u001b[38;5;28mprint\u001b[39m(\u001b[43mdf3\u001b[49m[df3[\u001b[38;5;124m'\u001b[39m\u001b[38;5;124mdiff\u001b[39m\u001b[38;5;124m'\u001b[39m] \u001b[38;5;241m<\u001b[39m \u001b[38;5;241m0\u001b[39m][\u001b[38;5;124m'\u001b[39m\u001b[38;5;124mdiff\u001b[39m\u001b[38;5;124m'\u001b[39m]\u001b[38;5;241m.\u001b[39mmean(), df3[df3[\u001b[38;5;124m'\u001b[39m\u001b[38;5;124mdiff\u001b[39m\u001b[38;5;124m'\u001b[39m] \u001b[38;5;241m<\u001b[39m \u001b[38;5;241m0\u001b[39m][\u001b[38;5;124m'\u001b[39m\u001b[38;5;124mdiff\u001b[39m\u001b[38;5;124m'\u001b[39m]\u001b[38;5;241m.\u001b[39mstd())\n\u001b[1;32m      3\u001b[0m \u001b[38;5;28mprint\u001b[39m(df3[df3[\u001b[38;5;124m'\u001b[39m\u001b[38;5;124mdiff\u001b[39m\u001b[38;5;124m'\u001b[39m] \u001b[38;5;241m>\u001b[39m \u001b[38;5;241m0\u001b[39m][\u001b[38;5;124m'\u001b[39m\u001b[38;5;124mdiff\u001b[39m\u001b[38;5;124m'\u001b[39m]\u001b[38;5;241m.\u001b[39mmean(), df3[df3[\u001b[38;5;124m'\u001b[39m\u001b[38;5;124mdiff\u001b[39m\u001b[38;5;124m'\u001b[39m] \u001b[38;5;241m>\u001b[39m \u001b[38;5;241m0\u001b[39m][\u001b[38;5;124m'\u001b[39m\u001b[38;5;124mdiff\u001b[39m\u001b[38;5;124m'\u001b[39m]\u001b[38;5;241m.\u001b[39mstd())\n",
      "\u001b[0;31mNameError\u001b[0m: name 'df3' is not defined"
     ]
    }
   ],
   "source": [
    "# get the diff that is less than 0\n",
    "print(df3[df3['diff'] < 0]['diff'].mean(), df3[df3['diff'] < 0]['diff'].std())\n",
    "print(df3[df3['diff'] > 0]['diff'].mean(), df3[df3['diff'] > 0]['diff'].std())"
   ]
  },
  {
   "cell_type": "code",
   "execution_count": 157,
   "metadata": {},
   "outputs": [
    {
     "name": "stdout",
     "output_type": "stream",
     "text": [
      "-15.090087890625 11.9135528915036\n",
      "12.199951171875 8.096845629753357\n"
     ]
    }
   ],
   "source": [
    "print(df3[df3['diff'] < 0]['diff'].median(), df3[df3['diff'] < 0]['diff'].std())\n",
    "print(df3[df3['diff'] > 0]['diff'].median(), df3[df3['diff'] > 0]['diff'].std())"
   ]
  },
  {
   "cell_type": "code",
   "execution_count": 150,
   "metadata": {},
   "outputs": [
    {
     "name": "stdout",
     "output_type": "stream",
     "text": [
      "-3.190952845982143 18.2724524290716\n"
     ]
    }
   ],
   "source": [
    "\n",
    "print(df3['diff'].mean(), df3['diff'].std())"
   ]
  },
  {
   "cell_type": "markdown",
   "metadata": {},
   "source": []
  }
 ],
 "metadata": {
  "kernelspec": {
   "display_name": "quant-mc",
   "language": "python",
   "name": "python3"
  },
  "language_info": {
   "codemirror_mode": {
    "name": "ipython",
    "version": 3
   },
   "file_extension": ".py",
   "mimetype": "text/x-python",
   "name": "python",
   "nbconvert_exporter": "python",
   "pygments_lexer": "ipython3",
   "version": "3.11.5"
  },
  "orig_nbformat": 4
 },
 "nbformat": 4,
 "nbformat_minor": 2
}
